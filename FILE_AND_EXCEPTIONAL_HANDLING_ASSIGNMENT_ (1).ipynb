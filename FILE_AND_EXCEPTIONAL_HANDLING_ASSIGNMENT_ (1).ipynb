{
  "nbformat": 4,
  "nbformat_minor": 0,
  "metadata": {
    "colab": {
      "provenance": []
    },
    "kernelspec": {
      "name": "python3",
      "display_name": "Python 3"
    },
    "language_info": {
      "name": "python"
    }
  },
  "cells": [
    {
      "cell_type": "markdown",
      "source": [
        "FILE AND EXCEPTIONAL HANDLING PRACTICAL QUESTIONS"
      ],
      "metadata": {
        "id": "ew9B8anSDIEM"
      }
    },
    {
      "cell_type": "markdown",
      "source": [
        "1. What is the difference between interpreted and compiled languages?\n",
        "\n",
        "= Compiled Language:\n",
        "In compiled languages, the code is first translated into machine code (0s and 1s) by a compiler before it runs. This translation happens once, and then the program can run anytime.\n",
        "\n",
        "Interpreted Language:\n",
        "In interpreted languages, the code is read and executed line-by-line by an interpreter during runtime. No separate machine code is generated in advance.\n",
        "\n",
        "2. What is exception handling in Python?\n",
        "\n",
        "= Exception handling in Python means catching and handling errors so that the program doesn't crash.\n",
        "Python gives us tools like try, except, finally to handle errors safely.\n",
        "\n",
        "3. What is the purpose of the finally block in exception handling?\n",
        "\n",
        "= The finally block in Python is used to write code that should always run, no matter what happens — even if there is an error or no error.\n",
        "\n",
        "4. What is logging in Python?\n",
        "\n",
        "= Logging in Python means recording messages about what your program is doing while it runs.\n",
        "It is useful to track errors, warnings, or important information — especially when your program becomes big.\n",
        "\n",
        "5. What is the significance of the __del__ method in Python?\n",
        "\n",
        "= The __del__ method is a special method in Python.\n",
        "It is called automatically when an object is deleted or destroyed.\n",
        "\n",
        "6. What is the difference between import and from ... import in Python ?\n",
        "\n",
        "=  Both are used to bring code from other modules (files or libraries) into your program, but they are used differently.\n",
        "\n",
        "7. How can you handle multiple exceptions in Python?\n",
        "\n",
        "= Use multiple except blocks for different errors or use a single block with a tuple of exceptions.\n",
        "\n",
        "8. What is the purpose of the with statement when handling files in Python?\n",
        "\n",
        "= It automatically closes the file after use, even if an error occurs.\n",
        "\n",
        "9. What is the difference between multithreading and multiprocessing?\n",
        "\n",
        "= Multithreading uses threads and shares memory. Multiprocessing uses processes and runs on separate memory.\n",
        "\n",
        "10. What are the advantages of using logging in a program?\n",
        "  \n",
        " = It helps track errors, monitor program flow, and debug issues.\n",
        "\n",
        "11. What is memory management in Python?\n",
        "\n",
        "= It is how Python handles memory allocation and release during program execution.\n",
        "\n",
        "12. What are the basic steps involved in exception handling in Python?\n",
        "\n",
        "= Use try, then except to catch errors, else to run code if no error, and finally to clean up.\n",
        "\n",
        "13. Why is memory management important in Python?\n",
        "\n",
        "= It prevents memory leaks and ensures the program runs efficiently.\n",
        "\n",
        "14. What is the role of try and except in exception handling?\n",
        "\n",
        "= try runs the code. If there’s an error, except handles it and avoids crashing the program.\n",
        "\n",
        "15. How does Python's garbage collection system work?\n",
        "\n",
        "= It removes unused objects automatically using reference counting and a cyclic garbage collector.\n",
        "\n",
        "16. What is the purpose of the else block in exception handling?\n",
        "\n",
        "= It runs only if no exception occurs in the try block.\n",
        "\n",
        "17. What are the common logging levels in Python?\n",
        "\n",
        "= DEBUG, INFO, WARNING, ERROR, and CRITICAL.\n",
        "\n",
        "18. What is the difference between os.fork() and multiprocessing in Python?\n",
        "\n",
        "= os.fork() is for Unix and creates a child process. multiprocessing works on all OS and is more flexible.\n",
        "\n",
        "19. What is the importance of closing a file in Python?\n",
        "\n",
        "= It frees system resources and prevents file corruption.\n",
        "\n",
        "20. What is the difference between file.read() and file.readline() in Python?\n",
        "\n",
        "= read() reads the whole file. readline() reads one line at a time.\n",
        "\n",
        "21. What is the logging module in Python used for?\n",
        "\n",
        "= It’s used to record messages about program events like errors and info.\n",
        "\n",
        "22. What is the os module in Python used for in file handling?\n",
        "\n",
        "= It helps in working with files, directories, and checking file paths.\n",
        "\n",
        "23. What are the challenges associated with memory management in Python?\n",
        "\n",
        "= It includes handling large data, avoiding memory leaks, and managing circular references.\n",
        "\n",
        "24. How do you raise an exception manually in Python?\n",
        "\n",
        "= Use the raise keyword with an exception type.\n",
        "\n",
        "25. Why is it important to use multithreading in certain applications?\n",
        "\n",
        "= It allows tasks to run at the same time, improving speed and performance for I/O-heavy programs.\n",
        "\n",
        "\n",
        "\n",
        "\n",
        "\n",
        "\n",
        "\n",
        "\n"
      ],
      "metadata": {
        "id": "FdCFo-rLCjRl"
      }
    },
    {
      "cell_type": "markdown",
      "source": [
        "PRACTICLE QUESTIONS"
      ],
      "metadata": {
        "id": "ncqCAhZYMzrw"
      }
    },
    {
      "cell_type": "markdown",
      "source": [
        "1. How can you open a file for writing in Python and write a string to it?\n"
      ],
      "metadata": {
        "id": "4wtSigFoM4F2"
      }
    },
    {
      "cell_type": "code",
      "source": [
        "with open(\"file.txt\", \"w\") as f:\n",
        "    f.write(\"Hello India\")\n"
      ],
      "metadata": {
        "id": "eJJCE7vAM8ZA"
      },
      "execution_count": 19,
      "outputs": []
    },
    {
      "cell_type": "markdown",
      "source": [
        "2. Write a Python program to read the contents of a file and print each line."
      ],
      "metadata": {
        "id": "ohQZq1zsNB5D"
      }
    },
    {
      "cell_type": "code",
      "source": [
        "with open(\"file.txt\", \"r\") as f:\n",
        "    for line in f:\n",
        "        print(line)\n"
      ],
      "metadata": {
        "colab": {
          "base_uri": "https://localhost:8080/"
        },
        "id": "A_yh3dfhNFzz",
        "outputId": "6c9d1691-02b3-45c9-c2aa-b37df6b87c59"
      },
      "execution_count": 20,
      "outputs": [
        {
          "output_type": "stream",
          "name": "stdout",
          "text": [
            "Hello India\n"
          ]
        }
      ]
    },
    {
      "cell_type": "markdown",
      "source": [
        "3. How would you handle a case where the file doesn't exist while trying to open it for reading."
      ],
      "metadata": {
        "id": "tK46OBrJNKx2"
      }
    },
    {
      "cell_type": "code",
      "source": [
        "try:\n",
        "    with open(\"nofile.txt\", \"r\") as f:\n",
        "        data = f.read()\n",
        "except FileNotFoundError:\n",
        "    print(\"File not found\")\n"
      ],
      "metadata": {
        "colab": {
          "base_uri": "https://localhost:8080/"
        },
        "id": "hvSP5dVeNQcT",
        "outputId": "4e3cd868-14f5-4ddb-be89-a8004fbee023"
      },
      "execution_count": 3,
      "outputs": [
        {
          "output_type": "stream",
          "name": "stdout",
          "text": [
            "File not found\n"
          ]
        }
      ]
    },
    {
      "cell_type": "markdown",
      "source": [
        "4. Write a Python script that reads from one file and writes its content to another file."
      ],
      "metadata": {
        "id": "KiVRSV5SNVab"
      }
    },
    {
      "cell_type": "code",
      "source": [
        "SKIP"
      ],
      "metadata": {
        "id": "2CWIhXCYNZwI"
      },
      "execution_count": 5,
      "outputs": []
    },
    {
      "cell_type": "markdown",
      "source": [
        "5. How would you catch and handle division by zero error in Python?\n"
      ],
      "metadata": {
        "id": "VHf3RzlRNn3g"
      }
    },
    {
      "cell_type": "code",
      "source": [
        "try :\n",
        "    x = 5 / 0\n",
        "except ZeroDivisionError:\n",
        "    print(\"Division by zero error\")\n",
        "    print(\"Division by zero error\")\n",
        "\n"
      ],
      "metadata": {
        "colab": {
          "base_uri": "https://localhost:8080/"
        },
        "id": "tL_vflOdNs7b",
        "outputId": "e7500258-8898-46e4-9167-ad1851f10116"
      },
      "execution_count": 11,
      "outputs": [
        {
          "output_type": "stream",
          "name": "stdout",
          "text": [
            "Division by zero error\n",
            "Division by zero error\n"
          ]
        }
      ]
    },
    {
      "cell_type": "markdown",
      "source": [
        "6.  Write a Python program that logs an error message to a log file when a division by zero exception occurs?"
      ],
      "metadata": {
        "id": "QNZ--Y_sOQYL"
      }
    },
    {
      "cell_type": "code",
      "source": [
        "import logging\n",
        "logging.basicConfig(filename=\"error.log\", level=logging.ERROR)\n",
        "\n",
        "try:\n",
        "    x = 10 / 0\n",
        "except ZeroDivisionError:\n",
        "    logging.error(\"Attempted division by zero\")\n"
      ],
      "metadata": {
        "colab": {
          "base_uri": "https://localhost:8080/"
        },
        "id": "mEQqvPobOTa9",
        "outputId": "1e2ba4ab-40f7-427d-bdc9-4fd6a1dd4efe"
      },
      "execution_count": 12,
      "outputs": [
        {
          "output_type": "stream",
          "name": "stderr",
          "text": [
            "ERROR:root:Attempted division by zero\n"
          ]
        }
      ]
    },
    {
      "cell_type": "markdown",
      "source": [
        "7. How do you log information at different levels (INFO, ERROR, WARNING) in Python using the logging module?\n"
      ],
      "metadata": {
        "id": "aBOsxhOKOdrJ"
      }
    },
    {
      "cell_type": "code",
      "source": [
        "import logging\n",
        "logging.basicConfig(level=logging.DEBUG)\n",
        "\n",
        "logging.info(\"This is info\")\n",
        "logging.warning(\"This is warning\")\n",
        "logging.error(\"This is error\")\n"
      ],
      "metadata": {
        "colab": {
          "base_uri": "https://localhost:8080/"
        },
        "id": "oIhyH6mjOfxa",
        "outputId": "7f26f89d-62cf-4629-f440-b98d8a0c71ac"
      },
      "execution_count": 13,
      "outputs": [
        {
          "output_type": "stream",
          "name": "stderr",
          "text": [
            "WARNING:root:This is warning\n",
            "ERROR:root:This is error\n"
          ]
        }
      ]
    },
    {
      "cell_type": "markdown",
      "source": [
        "8. Write a program to handle a file opening error using exception handling?\n"
      ],
      "metadata": {
        "id": "7Y0ZAiJEOmg0"
      }
    },
    {
      "cell_type": "code",
      "source": [
        "try:\n",
        "    with open(\"file.txt\", \"r\") as f:\n",
        "        print(f.read())\n",
        "except Exception as e:\n",
        "    print(\"Error:\", e)\n"
      ],
      "metadata": {
        "colab": {
          "base_uri": "https://localhost:8080/"
        },
        "id": "WROeL59dOn_T",
        "outputId": "de7b5dab-be7b-44c3-c9a3-c6e9e628e8e0"
      },
      "execution_count": 21,
      "outputs": [
        {
          "output_type": "stream",
          "name": "stdout",
          "text": [
            "Hello India\n"
          ]
        }
      ]
    },
    {
      "cell_type": "markdown",
      "source": [
        "9. How can you read a file line by line and store its content in a list in Python?\n"
      ],
      "metadata": {
        "id": "bZwtUmzBOwvE"
      }
    },
    {
      "cell_type": "code",
      "source": [
        "with open(\"file.txt\", \"r\") as f:\n",
        "    lines = f.readlines()\n",
        "    print(lines)\n"
      ],
      "metadata": {
        "colab": {
          "base_uri": "https://localhost:8080/"
        },
        "id": "ImC6R8Y1O53O",
        "outputId": "f3e3983a-f14e-46c7-8dd9-c539dca23c57"
      },
      "execution_count": 22,
      "outputs": [
        {
          "output_type": "stream",
          "name": "stdout",
          "text": [
            "['Hello India']\n"
          ]
        }
      ]
    },
    {
      "cell_type": "markdown",
      "source": [
        "10. How can you append data to an existing file in Python?\n"
      ],
      "metadata": {
        "id": "lEU3qjAOO-qN"
      }
    },
    {
      "cell_type": "code",
      "source": [
        "with open(\"file.txt\", \"a\") as f:\n",
        "    f.write(\"Extra line\\n\")\n"
      ],
      "metadata": {
        "id": "SLDsww4dPWNC"
      },
      "execution_count": 26,
      "outputs": []
    },
    {
      "cell_type": "markdown",
      "source": [
        "11. Write a Python program that uses a try-except block to handle an error when attempting to access a\n",
        "dictionary key that doesn't exist.\n"
      ],
      "metadata": {
        "id": "A14y4KfFPaa3"
      }
    },
    {
      "cell_type": "code",
      "source": [
        "try:\n",
        "    d = {\"a\": 1}\n",
        "    print(d[\"b\"])\n",
        "except KeyError:\n",
        "    print(\"Key not found\")\n"
      ],
      "metadata": {
        "colab": {
          "base_uri": "https://localhost:8080/"
        },
        "id": "cIRswFPHPeU1",
        "outputId": "1023eac3-c3f9-495b-f0dc-ec328e173687"
      },
      "execution_count": 25,
      "outputs": [
        {
          "output_type": "stream",
          "name": "stdout",
          "text": [
            "Key not found\n"
          ]
        }
      ]
    },
    {
      "cell_type": "markdown",
      "source": [
        "12. Write a program that demonstrates using multiple except blocks to handle different types of exceptions.\n"
      ],
      "metadata": {
        "id": "HQ3FvbcJPiA_"
      }
    },
    {
      "cell_type": "code",
      "source": [
        "try:\n",
        "    a = [1, 2]\n",
        "    print(a[5])\n",
        "except IndexError:\n",
        "    print(\"Index error\")\n",
        "except Exception:\n",
        "    print(\"Other error\")\n"
      ],
      "metadata": {
        "colab": {
          "base_uri": "https://localhost:8080/"
        },
        "id": "nZam13uhPlZx",
        "outputId": "1bc7e824-5646-4952-9cdc-3fa19c638aec"
      },
      "execution_count": 27,
      "outputs": [
        {
          "output_type": "stream",
          "name": "stdout",
          "text": [
            "Index error\n"
          ]
        }
      ]
    },
    {
      "cell_type": "markdown",
      "source": [
        "13.  How would you check if a file exists before attempting to read it in Python?\n"
      ],
      "metadata": {
        "id": "ky3UJVxEPoP2"
      }
    },
    {
      "cell_type": "code",
      "source": [
        "import os\n",
        "\n",
        "if os.path.exists(\"file.txt\"):\n",
        "    print(\"File exists\")\n",
        "else:\n",
        "    print(\"File not found\")\n"
      ],
      "metadata": {
        "colab": {
          "base_uri": "https://localhost:8080/"
        },
        "id": "9o27TH8ZPri9",
        "outputId": "ab26378d-be6c-4281-b984-e36d3d44a19b"
      },
      "execution_count": 28,
      "outputs": [
        {
          "output_type": "stream",
          "name": "stdout",
          "text": [
            "File exists\n"
          ]
        }
      ]
    },
    {
      "cell_type": "markdown",
      "source": [
        "14. Write a program that uses the logging module to log both informational and error messages."
      ],
      "metadata": {
        "id": "9rXgrNaOPuL1"
      }
    },
    {
      "cell_type": "code",
      "source": [
        "import logging\n",
        "logging.basicConfig(filename=\"log.txt\", level=logging.INFO)\n",
        "\n",
        "logging.info(\"Program started\")\n",
        "\n",
        "try:\n",
        "    x = 1 / 0\n",
        "except ZeroDivisionError:\n",
        "    logging.error(\"Division by zero\")\n"
      ],
      "metadata": {
        "colab": {
          "base_uri": "https://localhost:8080/"
        },
        "id": "4Sjll9kkPx0h",
        "outputId": "5a8d39aa-fdb1-4f14-c607-f29eabbdb43f"
      },
      "execution_count": 29,
      "outputs": [
        {
          "output_type": "stream",
          "name": "stderr",
          "text": [
            "ERROR:root:Division by zero\n"
          ]
        }
      ]
    },
    {
      "cell_type": "markdown",
      "source": [
        "15. Write a Python program that prints the content of a file and handles the case when the file is empty.\n"
      ],
      "metadata": {
        "id": "Spl4FN3fP3we"
      }
    },
    {
      "cell_type": "code",
      "source": [
        "with open(\"file.txt\", \"r\") as f:\n",
        "    content = f.read()\n",
        "    if content:\n",
        "        print(content)\n",
        "    else:\n",
        "        print(\"File is empty\")\n"
      ],
      "metadata": {
        "colab": {
          "base_uri": "https://localhost:8080/"
        },
        "id": "FPX5wgCRP7eH",
        "outputId": "5157e86c-9c2a-4761-c55c-2026dbe05c37"
      },
      "execution_count": 30,
      "outputs": [
        {
          "output_type": "stream",
          "name": "stdout",
          "text": [
            "Hello IndiaExtra line\n",
            "Extra line\n",
            "Extra line\n",
            "\n"
          ]
        }
      ]
    },
    {
      "cell_type": "markdown",
      "source": [
        "16.  Demonstrate how to use memory profiling to check the memory usage of a small program.\n",
        "= skip"
      ],
      "metadata": {
        "id": "cmwNek9UP_Mi"
      }
    },
    {
      "cell_type": "markdown",
      "source": [
        "17. Write a Python program to create and write a list of numbers to a file, one number per line"
      ],
      "metadata": {
        "id": "2d-mcuofQT2H"
      }
    },
    {
      "cell_type": "code",
      "source": [
        "\n",
        "numbers = [1, 2, 3, 4, 5]\n",
        "with open(\"numbers.txt\", \"w\") as f:\n",
        "    for num in numbers:\n",
        "        f.write(str(num) + \"\\n\")\n",
        "\n",
        "!cat numbers.txt\n"
      ],
      "metadata": {
        "colab": {
          "base_uri": "https://localhost:8080/"
        },
        "id": "OxptvGZxQYb3",
        "outputId": "7a64cf7d-c88d-4dfc-9ea6-b786f7c31cec"
      },
      "execution_count": 41,
      "outputs": [
        {
          "output_type": "stream",
          "name": "stdout",
          "text": [
            "1\n",
            "2\n",
            "3\n",
            "4\n",
            "5\n"
          ]
        }
      ]
    },
    {
      "cell_type": "markdown",
      "source": [
        "18. How would you implement a basic logging setup that logs to a file with rotation after 1MB?\n"
      ],
      "metadata": {
        "id": "dy0RTmmiQgV7"
      }
    },
    {
      "cell_type": "code",
      "source": [
        "import logging\n",
        "from logging.handlers import RotatingFileHandler\n",
        "\n",
        "handler = RotatingFileHandler(\"rotate_log.log\", maxBytes=1024, backupCount=2)\n",
        "logger = logging.getLogger()\n",
        "logger.setLevel(logging.INFO)\n",
        "logger.addHandler(handler)\n",
        "\n",
        "for i in range(100):\n",
        "    logger.info(\"Logging line number %d\", i)\n",
        "\n",
        "!cat rotate_log.\n",
        "\n"
      ],
      "metadata": {
        "colab": {
          "base_uri": "https://localhost:8080/"
        },
        "id": "_irT8m5dQkcT",
        "outputId": "666b3998-3f9b-44d6-e87e-9ca8abf33335"
      },
      "execution_count": 46,
      "outputs": [
        {
          "output_type": "stream",
          "name": "stderr",
          "text": [
            "INFO:root:Logging line number 0\n",
            "INFO:root:Logging line number 1\n",
            "INFO:root:Logging line number 2\n",
            "INFO:root:Logging line number 3\n",
            "INFO:root:Logging line number 4\n",
            "INFO:root:Logging line number 5\n",
            "INFO:root:Logging line number 6\n",
            "INFO:root:Logging line number 7\n",
            "INFO:root:Logging line number 8\n",
            "INFO:root:Logging line number 9\n",
            "INFO:root:Logging line number 10\n",
            "INFO:root:Logging line number 11\n",
            "INFO:root:Logging line number 12\n",
            "INFO:root:Logging line number 13\n",
            "INFO:root:Logging line number 14\n",
            "INFO:root:Logging line number 15\n",
            "INFO:root:Logging line number 16\n",
            "INFO:root:Logging line number 17\n",
            "INFO:root:Logging line number 18\n",
            "INFO:root:Logging line number 19\n",
            "INFO:root:Logging line number 20\n",
            "INFO:root:Logging line number 21\n",
            "INFO:root:Logging line number 22\n",
            "INFO:root:Logging line number 23\n",
            "INFO:root:Logging line number 24\n",
            "INFO:root:Logging line number 25\n",
            "INFO:root:Logging line number 26\n",
            "INFO:root:Logging line number 27\n",
            "INFO:root:Logging line number 28\n",
            "INFO:root:Logging line number 29\n",
            "INFO:root:Logging line number 30\n",
            "INFO:root:Logging line number 31\n",
            "INFO:root:Logging line number 32\n",
            "INFO:root:Logging line number 33\n",
            "INFO:root:Logging line number 34\n",
            "INFO:root:Logging line number 35\n",
            "INFO:root:Logging line number 36\n",
            "INFO:root:Logging line number 37\n",
            "INFO:root:Logging line number 38\n",
            "INFO:root:Logging line number 39\n",
            "INFO:root:Logging line number 40\n",
            "INFO:root:Logging line number 41\n",
            "INFO:root:Logging line number 42\n",
            "INFO:root:Logging line number 43\n",
            "INFO:root:Logging line number 44\n",
            "INFO:root:Logging line number 45\n",
            "INFO:root:Logging line number 46\n",
            "INFO:root:Logging line number 47\n",
            "INFO:root:Logging line number 48\n",
            "INFO:root:Logging line number 49\n",
            "INFO:root:Logging line number 50\n",
            "INFO:root:Logging line number 51\n",
            "INFO:root:Logging line number 52\n",
            "INFO:root:Logging line number 53\n",
            "INFO:root:Logging line number 54\n",
            "INFO:root:Logging line number 55\n",
            "INFO:root:Logging line number 56\n",
            "INFO:root:Logging line number 57\n",
            "INFO:root:Logging line number 58\n",
            "INFO:root:Logging line number 59\n",
            "INFO:root:Logging line number 60\n",
            "INFO:root:Logging line number 61\n",
            "INFO:root:Logging line number 62\n",
            "INFO:root:Logging line number 63\n",
            "INFO:root:Logging line number 64\n",
            "INFO:root:Logging line number 65\n",
            "INFO:root:Logging line number 66\n",
            "INFO:root:Logging line number 67\n",
            "INFO:root:Logging line number 68\n",
            "INFO:root:Logging line number 69\n",
            "INFO:root:Logging line number 70\n",
            "INFO:root:Logging line number 71\n",
            "INFO:root:Logging line number 72\n",
            "INFO:root:Logging line number 73\n",
            "INFO:root:Logging line number 74\n",
            "INFO:root:Logging line number 75\n",
            "INFO:root:Logging line number 76\n",
            "INFO:root:Logging line number 77\n",
            "INFO:root:Logging line number 78\n",
            "INFO:root:Logging line number 79\n",
            "INFO:root:Logging line number 80\n",
            "INFO:root:Logging line number 81\n",
            "INFO:root:Logging line number 82\n",
            "INFO:root:Logging line number 83\n",
            "INFO:root:Logging line number 84\n",
            "INFO:root:Logging line number 85\n",
            "INFO:root:Logging line number 86\n",
            "INFO:root:Logging line number 87\n",
            "INFO:root:Logging line number 88\n",
            "INFO:root:Logging line number 89\n",
            "INFO:root:Logging line number 90\n",
            "INFO:root:Logging line number 91\n",
            "INFO:root:Logging line number 92\n",
            "INFO:root:Logging line number 93\n",
            "INFO:root:Logging line number 94\n",
            "INFO:root:Logging line number 95\n",
            "INFO:root:Logging line number 96\n",
            "INFO:root:Logging line number 97\n",
            "INFO:root:Logging line number 98\n",
            "INFO:root:Logging line number 99\n"
          ]
        },
        {
          "output_type": "stream",
          "name": "stdout",
          "text": [
            "cat: rotate_log.: No such file or directory\n"
          ]
        }
      ]
    },
    {
      "cell_type": "markdown",
      "source": [
        "19. Write a program that handles both IndexError and KeyError using a try-except block.\n"
      ],
      "metadata": {
        "id": "t2hkgkPxRXHx"
      }
    },
    {
      "cell_type": "code",
      "source": [
        "try:\n",
        "    lst = [1]\n",
        "    print(lst[3])\n",
        "    d = {\"x\": 1}\n",
        "    print(d[\"y\"])\n",
        "except IndexError:\n",
        "    print(\"Index error\")\n",
        "except KeyError:\n",
        "    print(\"Key error\")\n"
      ],
      "metadata": {
        "colab": {
          "base_uri": "https://localhost:8080/"
        },
        "id": "Nxjx7oVERbv6",
        "outputId": "3b5a1337-bfc7-4bed-e3fd-6a2f3193c5e5"
      },
      "execution_count": 47,
      "outputs": [
        {
          "output_type": "stream",
          "name": "stdout",
          "text": [
            "Index error\n"
          ]
        }
      ]
    },
    {
      "cell_type": "markdown",
      "source": [
        "20. How would you open a file and read its contents using a context manager in Python?\n"
      ],
      "metadata": {
        "id": "i-WWlNQ0RmW4"
      }
    },
    {
      "cell_type": "code",
      "source": [
        "with open(\"file.txt\", \"r\") as f:\n",
        "    print(f.read())\n"
      ],
      "metadata": {
        "colab": {
          "base_uri": "https://localhost:8080/"
        },
        "id": "74y3I_f5RquX",
        "outputId": "3237cba6-460d-4c11-8e01-97a2e4601d19"
      },
      "execution_count": 48,
      "outputs": [
        {
          "output_type": "stream",
          "name": "stdout",
          "text": [
            "Hello IndiaExtra line\n",
            "Extra line\n",
            "Extra line\n",
            "\n"
          ]
        }
      ]
    },
    {
      "cell_type": "markdown",
      "source": [
        "21. Write a Python program that reads a file and prints the number of occurrences of a specific word."
      ],
      "metadata": {
        "id": "ktDiS7mORvLx"
      }
    },
    {
      "cell_type": "code",
      "source": [
        "word = \"data\"\n",
        "with open(\"file.txt\", \"r\") as f:\n",
        "    text = f.read()\n",
        "    print(\"Count:\", text.count(word))\n"
      ],
      "metadata": {
        "colab": {
          "base_uri": "https://localhost:8080/"
        },
        "id": "HRKZ3e6gRys-",
        "outputId": "a4424cd2-2910-4d33-d571-fcd7e2620028"
      },
      "execution_count": 49,
      "outputs": [
        {
          "output_type": "stream",
          "name": "stdout",
          "text": [
            "Count: 0\n"
          ]
        }
      ]
    },
    {
      "cell_type": "markdown",
      "source": [
        "22. How can you check if a file is empty before attempting to read its contents?"
      ],
      "metadata": {
        "id": "QlORJqpvR7O0"
      }
    },
    {
      "cell_type": "code",
      "source": [
        "import os\n",
        "\n",
        "if os.path.getsize(\"file.txt\") == 0:\n",
        "    print(\"Empty file\")\n",
        "else:\n",
        "    with open(\"file.txt\", \"r\") as f:\n",
        "        print(f.read())\n"
      ],
      "metadata": {
        "colab": {
          "base_uri": "https://localhost:8080/"
        },
        "id": "E7DkVtDSR8zf",
        "outputId": "56d45b91-5d93-416a-db2d-2691587e35d4"
      },
      "execution_count": 50,
      "outputs": [
        {
          "output_type": "stream",
          "name": "stdout",
          "text": [
            "Hello IndiaExtra line\n",
            "Extra line\n",
            "Extra line\n",
            "\n"
          ]
        }
      ]
    },
    {
      "cell_type": "markdown",
      "source": [
        "23. Write a Python program that writes to a log file when an error occurs during file handling."
      ],
      "metadata": {
        "id": "6-xtQkd4SAUF"
      }
    },
    {
      "cell_type": "code",
      "source": [
        "import logging\n",
        "logging.basicConfig(filename=\"logfile.log\", level=logging.ERROR)\n",
        "\n",
        "try:\n",
        "    with open(\"nofile.txt\", \"r\") as f:\n",
        "        print(f.read())\n",
        "except Exception as e:\n",
        "    logging.error(\"File error: %s\", e)\n"
      ],
      "metadata": {
        "colab": {
          "base_uri": "https://localhost:8080/"
        },
        "id": "tlAYt9LcSFBJ",
        "outputId": "a94eb786-5a75-42bc-e1d9-a3a420a295fb"
      },
      "execution_count": 51,
      "outputs": [
        {
          "output_type": "stream",
          "name": "stderr",
          "text": [
            "ERROR:root:File error: [Errno 2] No such file or directory: 'nofile.txt'\n"
          ]
        }
      ]
    }
  ]
}